{
 "cells": [
  {
   "cell_type": "markdown",
   "id": "892f6460",
   "metadata": {},
   "source": [
    "# Introduction à la Science des données\n",
    "\n",
    "\n",
    "\n",
    "## Travail pratique 03 – Analyse Exploratoire des Données\n",
    "\n",
    "\n",
    "### Table des matières\n",
    "\n",
    "[Exercice 1: Pantheria, base de données d'animaux](#Exercice-1:-Pantheria,-base-de-données-d'animaux)\n",
    "- [1.1 Lecture des données](#1.1-Lecture-des-données)\n",
    "- [1.2 Exploration des masses des différents animaux](#1.2-Exploration-des-masses-des-différents-animaux)\n",
    "- [1.3 Histogramme des masses corporelles](#1.3-Histogramme-des-masses-corporelles)\n",
    "- [1.4 Min et Max](#1.4-Min-et-Max)\n",
    "- [1.5 Choix perso](#1.5-Choix-perso)\n",
    "\n",
    "[Exercice 2: Wine database - Analyse Exploratoire des données](##-Exercice-2:-Wine-database---Analyse-Exploratoire-des-données)\n",
    "- [2.1 Questions](#2.1-Questions)\n",
    "- [2.2 Lecture des données](#2.2-Lecture-des-données)\n",
    "- [2.3 Boxplot groupé](#2.3-Boxplot-groupé)\n",
    "- [2.4 Analyse des graphiques](#2.4-Analyse-des-graphiques)\n",
    "\n",
    "[Exercice 3: Introduction au modèle à base de règles](#Exercice-3:-Introduction-au-modèle-à-base-de-règles)\n",
    "\n",
    "***\n",
    "\n",
    "\n",
    "**Informations de groupe:**\n",
    "\n",
    "- Groupe: TP3-CD-25\n",
    "- Calum Quinn\n",
    "- Thomas Vuilleumier\n",
    "\n",
    "**Professeurs**: Carlos Peña et Stephan Robert\n",
    "\n",
    "**Assistant(s)**: Thibault Schowing, Arthur Babey\n",
    "\n",
    "**Emails**: prenom.nom@heig-vd.ch\n",
    "\n",
    "**Rendu**:\n",
    "\n",
    "- Date: dimanche 19.11.2023, 23h55 (2 semaines)\n",
    "\n",
    "\n",
    "- Une fois complété, rendez directement le notebook nommé correctement comme suit \"**TP3_ISD_SA2023_Nom1_Nom2(_Nom3).ipynb**\" en mettant les noms de famille de chacun des membres du groupe (pour ceux avec plusieurs noms de famille, vous pouvez mettre juste le premier)\n",
    "\n",
    "\n",
    "- Mettez vos Prénoms et noms en entier ci-dessus (ou il est indiqué **A COMPLETER**). \n",
    "\n",
    "\n",
    "- Les questions sont généralement indiquées en **gras** ou par une liste d'instructrions et les endroits où répondre sont indiqués par un \"*Réponse:*\" pour les réponses textuelles. \n",
    "\n",
    "\n",
    "- Pour les réponses nécessitant d'écrire du code, les cellules ont déjà été crées et un commentaire indique où/quoi répondre. \n",
    "\n",
    "\n",
    "- Note: Ce TP est noté sur 6\n",
    "\n",
    "\n",
    "\n",
    "<div class=\"alert alert-block alert-success\">\n",
    "<b>Objectifs </b>\n",
    "</div>\n",
    "\n",
    "- Pratiquer l'analyse exploratoire des données sur un premier set de données (PanTHERIA_1-0_WR05_Aug2008.txt)\n",
    "- Réaliser l'analyse exploratoire des données sur un second set de données, en prévision du TP suivant, et commencer à comprendre les modèles à base de règles. \n",
    "\n",
    "<div class=\"alert alert-block alert-info\">\n",
    "<b>Corrections: </b> Ce notebook vous sera renvoyé via Cyberlearn ou  un autre canal. Les informations principales concernant les corrections seront indiquées après chaque section (banière bleue) avec le nombre de points. Il est possible que des remarques concernant le code soient directement ajoutées dans celui-ci.\n",
    "</div>\n",
    "\n"
   ]
  },
  {
   "cell_type": "code",
   "execution_count": 1,
   "id": "a00e833a",
   "metadata": {},
   "outputs": [],
   "source": [
    "# Imports\n",
    "import matplotlib.pyplot as plt\n",
    "import numpy as np\n",
    "import pandas as pd\n",
    "import seaborn as sns"
   ]
  },
  {
   "cell_type": "markdown",
   "id": "d84b4e28",
   "metadata": {},
   "source": [
    "## Exercice 1: Pantheria, base de données d'animaux\n",
    "\n"
   ]
  },
  {
   "cell_type": "markdown",
   "id": "3c192f1e",
   "metadata": {},
   "source": [
    "### 1.1 Lecture des données\n",
    "\n",
    "(5 points)\n",
    "\n",
    "Créez un DataFrame à partir du fichier CSV donné et explorez rapidement les données\n",
    "\n",
    "- Utilisez la fonction read_csv() de Pandas pour lire le fichier *PanTHERIA_1-0_WR05_Aug2008.txt* dans un DataFrame. Utilisez le bon séparateur. \n",
    "- Utilisez la fonction head() pour avoir un aperçu des différentes colonnes et valeurs\n",
    "- Répondez aux questions dans les cellules \"*Réponse...*\". \n"
   ]
  },
  {
   "cell_type": "code",
   "execution_count": 2,
   "id": "1224e811",
   "metadata": {},
   "outputs": [],
   "source": [
    "# Lire le fichier dans un DataFrame\n",
    "df = pd.read_csv('PanTHERIA_1-0_WR05_Aug2008.txt',sep='\\t')"
   ]
  },
  {
   "cell_type": "code",
   "execution_count": 3,
   "id": "ed0aaa5d",
   "metadata": {},
   "outputs": [
    {
     "data": {
      "text/html": [
       "<div>\n",
       "<style scoped>\n",
       "    .dataframe tbody tr th:only-of-type {\n",
       "        vertical-align: middle;\n",
       "    }\n",
       "\n",
       "    .dataframe tbody tr th {\n",
       "        vertical-align: top;\n",
       "    }\n",
       "\n",
       "    .dataframe thead th {\n",
       "        text-align: right;\n",
       "    }\n",
       "</style>\n",
       "<table border=\"1\" class=\"dataframe\">\n",
       "  <thead>\n",
       "    <tr style=\"text-align: right;\">\n",
       "      <th></th>\n",
       "      <th>MSW05_Order</th>\n",
       "      <th>MSW05_Family</th>\n",
       "      <th>MSW05_Genus</th>\n",
       "      <th>MSW05_Species</th>\n",
       "      <th>MSW05_Binomial</th>\n",
       "      <th>1-1_ActivityCycle</th>\n",
       "      <th>5-1_AdultBodyMass_g</th>\n",
       "      <th>8-1_AdultForearmLen_mm</th>\n",
       "      <th>13-1_AdultHeadBodyLen_mm</th>\n",
       "      <th>2-1_AgeatEyeOpening_d</th>\n",
       "      <th>...</th>\n",
       "      <th>26-6_GR_MinLong_dd</th>\n",
       "      <th>26-7_GR_MidRangeLong_dd</th>\n",
       "      <th>27-1_HuPopDen_Min_n/km2</th>\n",
       "      <th>27-2_HuPopDen_Mean_n/km2</th>\n",
       "      <th>27-3_HuPopDen_5p_n/km2</th>\n",
       "      <th>27-4_HuPopDen_Change</th>\n",
       "      <th>28-1_Precip_Mean_mm</th>\n",
       "      <th>28-2_Temp_Mean_01degC</th>\n",
       "      <th>30-1_AET_Mean_mm</th>\n",
       "      <th>30-2_PET_Mean_mm</th>\n",
       "    </tr>\n",
       "  </thead>\n",
       "  <tbody>\n",
       "    <tr>\n",
       "      <th>0</th>\n",
       "      <td>Artiodactyla</td>\n",
       "      <td>Camelidae</td>\n",
       "      <td>Camelus</td>\n",
       "      <td>dromedarius</td>\n",
       "      <td>Camelus dromedarius</td>\n",
       "      <td>3.0</td>\n",
       "      <td>492714.47</td>\n",
       "      <td>-999.0</td>\n",
       "      <td>-999.00</td>\n",
       "      <td>-999.00</td>\n",
       "      <td>...</td>\n",
       "      <td>-999.00</td>\n",
       "      <td>-999.00</td>\n",
       "      <td>-999</td>\n",
       "      <td>-999.00</td>\n",
       "      <td>-999.0</td>\n",
       "      <td>-999.00</td>\n",
       "      <td>-999.00</td>\n",
       "      <td>-999.00</td>\n",
       "      <td>-999.00</td>\n",
       "      <td>-999.00</td>\n",
       "    </tr>\n",
       "    <tr>\n",
       "      <th>1</th>\n",
       "      <td>Carnivora</td>\n",
       "      <td>Canidae</td>\n",
       "      <td>Canis</td>\n",
       "      <td>adustus</td>\n",
       "      <td>Canis adustus</td>\n",
       "      <td>1.0</td>\n",
       "      <td>10392.49</td>\n",
       "      <td>-999.0</td>\n",
       "      <td>745.32</td>\n",
       "      <td>-999.00</td>\n",
       "      <td>...</td>\n",
       "      <td>-17.53</td>\n",
       "      <td>13.00</td>\n",
       "      <td>0</td>\n",
       "      <td>35.20</td>\n",
       "      <td>1.0</td>\n",
       "      <td>0.14</td>\n",
       "      <td>90.75</td>\n",
       "      <td>236.51</td>\n",
       "      <td>922.90</td>\n",
       "      <td>1534.40</td>\n",
       "    </tr>\n",
       "    <tr>\n",
       "      <th>2</th>\n",
       "      <td>Carnivora</td>\n",
       "      <td>Canidae</td>\n",
       "      <td>Canis</td>\n",
       "      <td>aureus</td>\n",
       "      <td>Canis aureus</td>\n",
       "      <td>2.0</td>\n",
       "      <td>9658.70</td>\n",
       "      <td>-999.0</td>\n",
       "      <td>827.53</td>\n",
       "      <td>7.50</td>\n",
       "      <td>...</td>\n",
       "      <td>-17.05</td>\n",
       "      <td>45.74</td>\n",
       "      <td>0</td>\n",
       "      <td>79.29</td>\n",
       "      <td>0.0</td>\n",
       "      <td>0.10</td>\n",
       "      <td>44.61</td>\n",
       "      <td>217.23</td>\n",
       "      <td>438.02</td>\n",
       "      <td>1358.98</td>\n",
       "    </tr>\n",
       "    <tr>\n",
       "      <th>3</th>\n",
       "      <td>Carnivora</td>\n",
       "      <td>Canidae</td>\n",
       "      <td>Canis</td>\n",
       "      <td>latrans</td>\n",
       "      <td>Canis latrans</td>\n",
       "      <td>2.0</td>\n",
       "      <td>11989.10</td>\n",
       "      <td>-999.0</td>\n",
       "      <td>872.39</td>\n",
       "      <td>11.94</td>\n",
       "      <td>...</td>\n",
       "      <td>-168.12</td>\n",
       "      <td>-117.60</td>\n",
       "      <td>0</td>\n",
       "      <td>27.27</td>\n",
       "      <td>0.0</td>\n",
       "      <td>0.06</td>\n",
       "      <td>53.03</td>\n",
       "      <td>58.18</td>\n",
       "      <td>503.02</td>\n",
       "      <td>728.37</td>\n",
       "    </tr>\n",
       "    <tr>\n",
       "      <th>4</th>\n",
       "      <td>Carnivora</td>\n",
       "      <td>Canidae</td>\n",
       "      <td>Canis</td>\n",
       "      <td>lupus</td>\n",
       "      <td>Canis lupus</td>\n",
       "      <td>2.0</td>\n",
       "      <td>31756.51</td>\n",
       "      <td>-999.0</td>\n",
       "      <td>1055.00</td>\n",
       "      <td>14.01</td>\n",
       "      <td>...</td>\n",
       "      <td>-171.84</td>\n",
       "      <td>3.90</td>\n",
       "      <td>0</td>\n",
       "      <td>37.87</td>\n",
       "      <td>0.0</td>\n",
       "      <td>0.04</td>\n",
       "      <td>34.79</td>\n",
       "      <td>4.82</td>\n",
       "      <td>313.33</td>\n",
       "      <td>561.11</td>\n",
       "    </tr>\n",
       "  </tbody>\n",
       "</table>\n",
       "<p>5 rows × 55 columns</p>\n",
       "</div>"
      ],
      "text/plain": [
       "    MSW05_Order MSW05_Family MSW05_Genus MSW05_Species       MSW05_Binomial  \\\n",
       "0  Artiodactyla    Camelidae     Camelus   dromedarius  Camelus dromedarius   \n",
       "1     Carnivora      Canidae       Canis       adustus        Canis adustus   \n",
       "2     Carnivora      Canidae       Canis        aureus         Canis aureus   \n",
       "3     Carnivora      Canidae       Canis       latrans        Canis latrans   \n",
       "4     Carnivora      Canidae       Canis         lupus          Canis lupus   \n",
       "\n",
       "   1-1_ActivityCycle  5-1_AdultBodyMass_g  8-1_AdultForearmLen_mm  \\\n",
       "0                3.0            492714.47                  -999.0   \n",
       "1                1.0             10392.49                  -999.0   \n",
       "2                2.0              9658.70                  -999.0   \n",
       "3                2.0             11989.10                  -999.0   \n",
       "4                2.0             31756.51                  -999.0   \n",
       "\n",
       "   13-1_AdultHeadBodyLen_mm  2-1_AgeatEyeOpening_d  ...  26-6_GR_MinLong_dd  \\\n",
       "0                   -999.00                -999.00  ...             -999.00   \n",
       "1                    745.32                -999.00  ...              -17.53   \n",
       "2                    827.53                   7.50  ...              -17.05   \n",
       "3                    872.39                  11.94  ...             -168.12   \n",
       "4                   1055.00                  14.01  ...             -171.84   \n",
       "\n",
       "   26-7_GR_MidRangeLong_dd  27-1_HuPopDen_Min_n/km2  27-2_HuPopDen_Mean_n/km2  \\\n",
       "0                  -999.00                     -999                   -999.00   \n",
       "1                    13.00                        0                     35.20   \n",
       "2                    45.74                        0                     79.29   \n",
       "3                  -117.60                        0                     27.27   \n",
       "4                     3.90                        0                     37.87   \n",
       "\n",
       "   27-3_HuPopDen_5p_n/km2  27-4_HuPopDen_Change  28-1_Precip_Mean_mm  \\\n",
       "0                  -999.0               -999.00              -999.00   \n",
       "1                     1.0                  0.14                90.75   \n",
       "2                     0.0                  0.10                44.61   \n",
       "3                     0.0                  0.06                53.03   \n",
       "4                     0.0                  0.04                34.79   \n",
       "\n",
       "   28-2_Temp_Mean_01degC  30-1_AET_Mean_mm  30-2_PET_Mean_mm  \n",
       "0                -999.00           -999.00           -999.00  \n",
       "1                 236.51            922.90           1534.40  \n",
       "2                 217.23            438.02           1358.98  \n",
       "3                  58.18            503.02            728.37  \n",
       "4                   4.82            313.33            561.11  \n",
       "\n",
       "[5 rows x 55 columns]"
      ]
     },
     "execution_count": 3,
     "metadata": {},
     "output_type": "execute_result"
    }
   ],
   "source": [
    "# Aperçu avec head(). \n",
    "\n",
    "df.head()"
   ]
  },
  {
   "cell_type": "code",
   "execution_count": 4,
   "id": "2cc2328c",
   "metadata": {},
   "outputs": [
    {
     "data": {
      "text/plain": [
       "5416"
      ]
     },
     "execution_count": 4,
     "metadata": {},
     "output_type": "execute_result"
    }
   ],
   "source": [
    "# Nombre de ligne du dataset\n",
    "len(df)"
   ]
  },
  {
   "cell_type": "markdown",
   "id": "3ba9db9c",
   "metadata": {},
   "source": [
    "<p style=\"background-color:#AFEEEE;padding:3px\"><font size=\"4\"><b>Q1 </b></font> Décrivez rapidement les données. Combien d'observations (lignes/rows) contient le dataset ? </p>"
   ]
  },
  {
   "cell_type": "markdown",
   "id": "a3233d63",
   "metadata": {},
   "source": [
    "5416"
   ]
  },
  {
   "cell_type": "markdown",
   "id": "66cad5ff",
   "metadata": {},
   "source": [
    "<p style=\"background-color:#AFEEEE;padding:3px\"><font size=\"4\"><b>Q2 </b></font> Quelle valeur récurrente et abérrante observez-vous et que peut-elle signifier ?</p>\n"
   ]
  },
  {
   "cell_type": "markdown",
   "id": "917495a8",
   "metadata": {},
   "source": [
    "-999, un overflow ou une valeur manquante?"
   ]
  },
  {
   "cell_type": "markdown",
   "id": "39de9d76",
   "metadata": {},
   "source": [
    "### 1.2 Exploration des masses des différents animaux\n",
    "\n",
    "(5 points)\n",
    "\n",
    "- Créez un dataframe contenant uniquement la colonne *5-1_AdultBodyMass_g*. Vous pouvez la renommer par exemple \"mass\" avec la fonction [rename()](https://pandas.pydata.org/docs/reference/api/pandas.DataFrame.rename.html) si vous voulez pour plus de lisibilité. **Nommez ce nouveau DataFrame \"df_mass\"**.\n",
    "- Utilisez les fonctions info() et describe() sur ce nouveau DataFrame. \n",
    "- Observez la distribution des valeurs (min, max, median, mean). Y a-t-il des données manquantes ? Donnez une rapide description de cette colonne dans la case *Description de la colonne:* ci-dessous. \n",
    "- Sur la base de vos observations du point précédent, créez un boxplot des masses en ne prenant pas en compte les données manquantes et décrivez le graphique. Utilisez une échelle logarithmique pour l'axe Y. N'oubliez pas de nommer vos axes et de donner un titre au graphique.\n",
    "\n",
    "Aide: Regardez la fonction [plot()](https://pandas.pydata.org/pandas-docs/version/0.22/generated/pandas.DataFrame.plot.html) de Pandas (en arrière plan, Matplotlib est utilisé bien entendu).\n"
   ]
  },
  {
   "cell_type": "code",
   "execution_count": 5,
   "id": "a67031ad",
   "metadata": {},
   "outputs": [],
   "source": [
    "# Créez le DataFrame df_mass\n",
    "\n",
    "df_mass = df[\"5-1_AdultBodyMass_g\"]"
   ]
  },
  {
   "cell_type": "code",
   "execution_count": 6,
   "id": "dfc064e0",
   "metadata": {},
   "outputs": [
    {
     "name": "stdout",
     "output_type": "stream",
     "text": [
      "<class 'pandas.core.series.Series'>\n",
      "RangeIndex: 5416 entries, 0 to 5415\n",
      "Series name: 5-1_AdultBodyMass_g\n",
      "Non-Null Count  Dtype  \n",
      "--------------  -----  \n",
      "5416 non-null   float64\n",
      "dtypes: float64(1)\n",
      "memory usage: 42.4 KB\n"
     ]
    }
   ],
   "source": [
    "# info()\n",
    "df_mass.info()"
   ]
  },
  {
   "cell_type": "code",
   "execution_count": 7,
   "id": "2c442e39",
   "metadata": {},
   "outputs": [
    {
     "data": {
      "text/plain": [
       "count    5.416000e+03\n",
       "mean     1.159401e+05\n",
       "std      2.638103e+06\n",
       "min     -9.990000e+02\n",
       "25%     -9.990000e+02\n",
       "50%      2.312500e+01\n",
       "75%      2.819150e+02\n",
       "max      1.543213e+08\n",
       "Name: 5-1_AdultBodyMass_g, dtype: float64"
      ]
     },
     "execution_count": 7,
     "metadata": {},
     "output_type": "execute_result"
    }
   ],
   "source": [
    "# describe()\n",
    "df_mass.describe()"
   ]
  },
  {
   "cell_type": "markdown",
   "id": "3e95633f",
   "metadata": {},
   "source": [
    "*Description de la colonne 5-1_AdultBodyMass_g:*\n",
    "\n",
    "Il n'y a techniquement pas de données manquantes mais les valeurs ne pourraient pas être négatif logiquement. Nous pouvons en déduire que les valeurs manquantes ont été remplacées par -999."
   ]
  },
  {
   "cell_type": "code",
   "execution_count": 8,
   "id": "ace115fe",
   "metadata": {},
   "outputs": [
    {
     "data": {
      "text/plain": [
       "Text(0, 0.5, 'Masse [g]')"
      ]
     },
     "execution_count": 8,
     "metadata": {},
     "output_type": "execute_result"
    },
    {
     "data": {
      "image/png": "[encoded data removed]",
      "text/plain": [
       "<Figure size 640x480 with 1 Axes>"
      ]
     },
     "metadata": {},
     "output_type": "display_data"
    }
   ],
   "source": [
    "# Boxplot des masses sans les données manquantes\n",
    "df_filtered = df_mass[df_mass > 0]\n",
    "plt.boxplot(df_filtered)\n",
    "plt.yscale('log')\n",
    "plt.title(\"Boxplot des masses valides\")\n",
    "plt.ylabel(\"Masse [g]\")"
   ]
  },
  {
   "cell_type": "markdown",
   "id": "a81d4556",
   "metadata": {},
   "source": [
    "*Description du graphique:*\n",
    "\n",
    "On peut voir qu'une très grande majorité de nos points de données font moins de 1kg. De la sorte, nous avons besoin de l'échelle logarithmique pour pouvoir observer nos données de manière cohérente. De cet ensemble de données, nous pouvons remarquer que les \"grandes\" espèces, comme nous par exemple, sommes des outlyers dans ce graphique de masse, nous laissant entrevoir les différents niveaux du monde à travers les données.\n",
    "\n",
    "Cependant, à cause du nombre d'outlayers, cette partie est assez peu distingable. Il serait possible d'effacer ces points mais cela serait assez peu productif."
   ]
  },
  {
   "cell_type": "markdown",
   "id": "91c82c52",
   "metadata": {},
   "source": [
    "<div class=\"alert alert-block alert-info\">\n",
    "<b>Corrections 1.1 - 1.2: </b> Points obtenus: /10\n",
    "</div>\n",
    "\n",
    "Remarques: "
   ]
  },
  {
   "cell_type": "markdown",
   "id": "4c030e53",
   "metadata": {},
   "source": [
    "### 1.3 Histogramme des masses corporelles\n",
    "\n",
    "(5 points)\n",
    "\n",
    "- Générez un histogramme des masses corporelles de tous les animaux.\n",
    "- Générez un histogramme des masses corporelles des animaux atteignant un poids de *moins de 50 kilos* à l'age adulte. (pour plus de précision, spécifiez 30 bins pour l'histogramme). "
   ]
  },
  {
   "cell_type": "code",
   "execution_count": 9,
   "id": "f9030192",
   "metadata": {},
   "outputs": [
    {
     "data": {
      "text/plain": [
       "Text(0.5, 1.0, 'Histogramme des masses des mammifères')"
      ]
     },
     "execution_count": 9,
     "metadata": {},
     "output_type": "execute_result"
    },
    {
     "data": {
      "image/png": "[encoded data removed]",
      "text/plain": [
       "<Figure size 640x480 with 1 Axes>"
      ]
     },
     "metadata": {},
     "output_type": "display_data"
    }
   ],
   "source": [
    "# Histogramme\n",
    "df_filtered.hist(bins=30)\n",
    "plt.xlabel(\"Masse [g]\")\n",
    "plt.ylabel(\"Nbr\")\n",
    "plt.yscale('log')\n",
    "plt.title(\"Histogramme des masses des mammifères\")"
   ]
  },
  {
   "cell_type": "code",
   "execution_count": 10,
   "id": "0df878b4",
   "metadata": {},
   "outputs": [
    {
     "data": {
      "text/plain": [
       "Text(0.5, 1.0, 'Histogramme des masses des mammifères (<50kg)')"
      ]
     },
     "execution_count": 10,
     "metadata": {},
     "output_type": "execute_result"
    },
    {
     "data": {
      "image/png": "[encoded data removed]",
      "text/plain": [
       "<Figure size 640x480 with 1 Axes>"
      ]
     },
     "metadata": {},
     "output_type": "display_data"
    }
   ],
   "source": [
    "# Histogramme des animaux de <50 kg, 30 bins\n",
    "\n",
    "df_cut = df_filtered[df_mass < 50000]\n",
    "df_cut.hist(bins=30)\n",
    "plt.xlabel(\"Masse [g]\")\n",
    "plt.ylabel(\"Nbr\")\n",
    "plt.yscale('log')\n",
    "plt.title(\"Histogramme des masses des mammifères (<50kg)\")"
   ]
  },
  {
   "cell_type": "markdown",
   "id": "27dde0d1",
   "metadata": {},
   "source": [
    "<p style=\"background-color:#AFEEEE;padding:3px\"><font size=\"4\"><b>Q3 </b></font> Que pouvez-vous conclure à partir de ces deux graphiques ? </p>\n",
    "\n"
   ]
  },
  {
   "cell_type": "markdown",
   "id": "f44403ab",
   "metadata": {},
   "source": [
    "On peut voir ici une claire corrélation inverse entre le nombre d'espèces et leur masse à l'âge adulte. Il y a énormément d'espèces de très petite masse, puis un déclin assez constant du nombre d'espèces avec l'augmentation de la masse, avant qu'il n'y ait un plateau entre environ 20 kg et 50 kg, malgré qu'on puisse toujours voir une diminution progressive. On peut aussi voir que nous avons des extrèmes très marqués dans le premier histogramme, mais qui n'ont donc que peu de compagnie."
   ]
  },
  {
   "cell_type": "markdown",
   "id": "2f4f8b0d",
   "metadata": {},
   "source": [
    "<div class=\"alert alert-block alert-info\">\n",
    "<b>Corrections 1.3: </b> Points obtenus: /5\n",
    "</div>\n",
    "\n",
    "Remarques: "
   ]
  },
  {
   "cell_type": "markdown",
   "id": "152cc067",
   "metadata": {},
   "source": [
    "### 1.4 Min et Max\n",
    "\n",
    "(2 points)\n",
    "\n",
    "<p style=\"background-color:#AFEEEE;padding:3px\"><font size=\"4\"><b>Q4 </b></font> Quel est le nom (binomial) de l'animal le plus léger ? et celui du plus lourd ?</p>\n",
    "\n"
   ]
  },
  {
   "cell_type": "code",
   "execution_count": 11,
   "id": "f530d725",
   "metadata": {
    "scrolled": true
   },
   "outputs": [
    {
     "name": "stdout",
     "output_type": "stream",
     "text": [
      "Lightest = Craseonycteris thonglongyai \t 1.96 \n",
      "Heaviest = Balaenoptera musculus \t 154321304.5\n"
     ]
    }
   ],
   "source": [
    "max_index = df_filtered.idxmax()\n",
    "min_index = df_filtered.idxmin()\n",
    "print(\"Lightest =\", df.loc[min_index,\"MSW05_Binomial\"], \"\\t\", df.loc[min_index,\"5-1_AdultBodyMass_g\"], \"\\n\"\n",
    "      \"Heaviest =\", df.loc[max_index,\"MSW05_Binomial\"], \"\\t\", df.loc[max_index,\"5-1_AdultBodyMass_g\"])"
   ]
  },
  {
   "cell_type": "markdown",
   "id": "02aac316",
   "metadata": {},
   "source": [
    "Le plus léger: Craseonycteris thonglongyai\n",
    "\n",
    "Le plus lourd: Balaenoptera musculus\n",
    "\n",
    "NB: Notre base de données ne contient que des mamiphères selon cette page: [Ecological Archives E090-184](https://esapubs.org/archive/ecol/E090/184/)\n",
    "\n",
    "De la sorte, la réponse plus haut n'est valide qu'en ce qui concerne les mamiphères."
   ]
  },
  {
   "cell_type": "markdown",
   "id": "596fe028",
   "metadata": {},
   "source": [
    "<div class=\"alert alert-block alert-info\">\n",
    "<b>Corrections 1.4: </b> Points obtenus: /2\n",
    "</div>\n",
    "\n",
    "Remarques: "
   ]
  },
  {
   "cell_type": "markdown",
   "id": "ac2ccbda",
   "metadata": {},
   "source": [
    "### 1.5 Choix perso\n",
    "\n",
    "<p style=\"background-color:#AFEEEE;padding:3px\"><font size=\"4\"><b>Q5 </b></font> Choisissez une autre variable/colonne du dataset et extrayez-en des informations.</p>\n",
    "\n",
    "\n",
    "De cette colonne, produisez un graphique de votre choix (Boxplot, barplot, ...) et grâce aux fonctions connues, donnez un/des nombres intéressant en lien avec votre graphique (Moyenne, médiane, etc). Restez concis et utilisez deux cellules de code (une pour le graph et une pour les autres infos) et une cellule Markdown pour le résultat. \n",
    "\n",
    "*E.g. Barplot -> df.info() -> On voit que N % des animaux vivent en groupe de moins de M individus.* "
   ]
  },
  {
   "cell_type": "code",
   "execution_count": 12,
   "id": "e6ef5fb3",
   "metadata": {
    "scrolled": true
   },
   "outputs": [
    {
     "data": {
      "text/plain": [
       "Text(0.5, 1.0, \"Cycles d'acitivité des mammifères\")"
      ]
     },
     "execution_count": 12,
     "metadata": {},
     "output_type": "execute_result"
    },
    {
     "data": {
      "image/png": "[encoded data removed]",
      "text/plain": [
       "<Figure size 640x480 with 1 Axes>"
      ]
     },
     "metadata": {},
     "output_type": "display_data"
    }
   ],
   "source": [
    "df_cycle = df[df[\"1-1_ActivityCycle\"] >= 0][\"1-1_ActivityCycle\"]\n",
    "df_cycle.hist(bins=3)\n",
    "plt.xlabel(\"1: nocturne | 3: diurne | 2 : aucun (exclusivement)\")\n",
    "plt.ylabel(\"Nombre\")\n",
    "plt.title(\"Cycles d'acitivité des mammifères\")"
   ]
  },
  {
   "cell_type": "code",
   "execution_count": 13,
   "id": "a87efa3c",
   "metadata": {},
   "outputs": [
    {
     "name": "stdout",
     "output_type": "stream",
     "text": [
      "<class 'pandas.core.series.Series'>\n",
      "Index: 1659 entries, 0 to 5408\n",
      "Series name: 1-1_ActivityCycle\n",
      "Non-Null Count  Dtype  \n",
      "--------------  -----  \n",
      "1659 non-null   float64\n",
      "dtypes: float64(1)\n",
      "memory usage: 25.9 KB\n"
     ]
    }
   ],
   "source": [
    "df_cycle.info()"
   ]
  },
  {
   "cell_type": "markdown",
   "id": "2011c698",
   "metadata": {},
   "source": [
    "Interprété via: [Metadata](https://esapubs.org/archive/ecol/E090/184/metadata.htm)\n",
    "\n",
    "On peut remarquer premièrement qu'il nous manque beaucoup de données. De la sorte, nos conclusions sont restreintes à ce que nous savons, et on peut imaginer des biais d'analyse (par exemple, on pourrait imaginer qu'il nous manque plus de données des espèces nocturnes car elles sont plus difficiles à étudier).\n",
    "\n",
    "Cependant, avec les données à notre disposition, voici ce que nous pouvons observer:\n",
    "- Il n'y a pas de domination totale d'un cycle d'activité pour nos espèces, les trois options étant dans le même ordre de grandeur.\n",
    "- On voit tout de même une prévalence des mammifères nocturnes (première colonne du graphique)\n",
    "- On remarque aussi que c'est très loin d'être binaire: Beaucoup d'espèces ont un mode de vie qui est soit partiellement ou complétement crépusculaire, soit cathéméral.\n",
    "- De la sorte, il nous reste les mammifères diurnes, qui forment une minorité très nette. Encore une fois, cela nous présente que nous faisons partie d'une minorité et nous permet de nous rendre compte que la vie ne s'arrête pas quand nous fermons les yeux."
   ]
  },
  {
   "cell_type": "markdown",
   "id": "0ba12344",
   "metadata": {},
   "source": [
    "<div class=\"alert alert-block alert-info\">\n",
    "<b>Corrections 1.5: </b> Points obtenus: /5\n",
    "</div>\n",
    "\n",
    "Remarques: "
   ]
  },
  {
   "cell_type": "markdown",
   "id": "9839b5a6",
   "metadata": {},
   "source": [
    "---\n",
    "\n",
    "## Exercice 2: Wine database - Analyse Exploratoire des données\n",
    "\n",
    "\n",
    "\n",
    "Nous allons utiliser la base de données «Wine Data Set » disponible sur le dépôt de bases de données maintenu par l’Université de Californie à Irvine (UCI). Le lien direct est celui-ci : [http://archive.ics.uci.edu/ml/datasets/Wine?Quality].\n",
    "\n",
    "### 2.1 Questions\n",
    "\n",
    "(2 points)\n",
    "\n",
    "Parcourez rapidement la page et répondez aux questions suivantes:\n"
   ]
  },
  {
   "cell_type": "markdown",
   "id": "87fcde0e",
   "metadata": {},
   "source": [
    "<p style=\"background-color:#AFEEEE;padding:3px\"><font size=\"4\"><b>Q6 </b></font> Quelles informations contiennent ces données (brièvement) ? </p>"
   ]
  },
  {
   "cell_type": "markdown",
   "id": "655d2dcc",
   "metadata": {},
   "source": [
    "Le dataset contient les quantités de certains attributs de différents vins venant tous de la même région en Italie.\n",
    "Il y a 13 attributs mesurés pour chaque vin."
   ]
  },
  {
   "cell_type": "markdown",
   "id": "d9aa4814",
   "metadata": {},
   "source": [
    "<p style=\"background-color:#AFEEEE;padding:3px\"><font size=\"4\"><b>Q7 </b></font> Combien de colonnes y a-t-il ? </p>"
   ]
  },
  {
   "cell_type": "markdown",
   "id": "62497a4b",
   "metadata": {},
   "source": [
    "Il y a 14 colonnes, une par attribut mesuré et une pour la classe de vin."
   ]
  },
  {
   "cell_type": "markdown",
   "id": "a0640add",
   "metadata": {},
   "source": [
    "### 2.2 Lecture des données\n",
    "\n",
    "(5 points)\n",
    "\n",
    "Créez un DataFrame à partir du fichier **wine.data** et des noms de colonnes fournis, puis explorez rapidement les données. Ouvrez rapidement le fichier et observez les données pour voir leur structure et mieux comprendre la suite et posez-vous ces questions (pas besoin de noter une réponse): \n",
    "\n",
    "- *De quel manière sont stockées les données ?* \n",
    "- *Pourquoi on nous donne une liste de noms de colonne ?*\n",
    "\n",
    "Chargez les données comme indiqué ci-dessous. Si vous le voulez vous pouvez directement charger ces données depuis Scikit-learn, à vous de trouver comment faire.\n",
    "\n",
    "- Utilisez la fonction read_csv() pour lire le fichier **wine.data** et spécifiez le paramètre *names* en lui passant la liste donnée ci-dessous."
   ]
  },
  {
   "cell_type": "code",
   "execution_count": 14,
   "id": "335b1d76",
   "metadata": {},
   "outputs": [],
   "source": [
    "# Noms de colonnes \n",
    "\n",
    "headers = ['Class', 'Alcool', 'Malic acid', 'Ash', 'Alcalinity of ash', 'Magnesium', \n",
    "           'Total phenols', 'Flavanoids', 'Nonflavanoid phenols', 'Proanthocyanins', 'Color intensity', \n",
    "           'Hue', 'OD280/OD315 of diluted wines', 'Proline']\n",
    "\n",
    "# Créez le dataset et nommez le \"wines\"\n",
    "# Ajoutez votre code ici.\n",
    "wines = pd.read_csv('wine.data',sep=',',names=headers)\n"
   ]
  },
  {
   "cell_type": "markdown",
   "id": "82dde129",
   "metadata": {},
   "source": [
    "- Explorez rapidement les données avec les fonctions habituelles pour récolter des informations (p.ex., nombre d’observations, de classes, d’attributs, statistiques des attributs, données manquantes)."
   ]
  },
  {
   "cell_type": "code",
   "execution_count": 15,
   "id": "de4dc7e7",
   "metadata": {
    "scrolled": true
   },
   "outputs": [
    {
     "data": {
      "text/html": [
       "<div>\n",
       "<style scoped>\n",
       "    .dataframe tbody tr th:only-of-type {\n",
       "        vertical-align: middle;\n",
       "    }\n",
       "\n",
       "    .dataframe tbody tr th {\n",
       "        vertical-align: top;\n",
       "    }\n",
       "\n",
       "    .dataframe thead th {\n",
       "        text-align: right;\n",
       "    }\n",
       "</style>\n",
       "<table border=\"1\" class=\"dataframe\">\n",
       "  <thead>\n",
       "    <tr style=\"text-align: right;\">\n",
       "      <th></th>\n",
       "      <th>Class</th>\n",
       "      <th>Alcool</th>\n",
       "      <th>Malic acid</th>\n",
       "      <th>Ash</th>\n",
       "      <th>Alcalinity of ash</th>\n",
       "      <th>Magnesium</th>\n",
       "      <th>Total phenols</th>\n",
       "      <th>Flavanoids</th>\n",
       "      <th>Nonflavanoid phenols</th>\n",
       "      <th>Proanthocyanins</th>\n",
       "      <th>Color intensity</th>\n",
       "      <th>Hue</th>\n",
       "      <th>OD280/OD315 of diluted wines</th>\n",
       "      <th>Proline</th>\n",
       "    </tr>\n",
       "  </thead>\n",
       "  <tbody>\n",
       "    <tr>\n",
       "      <th>0</th>\n",
       "      <td>1</td>\n",
       "      <td>14.23</td>\n",
       "      <td>1.71</td>\n",
       "      <td>2.43</td>\n",
       "      <td>15.6</td>\n",
       "      <td>127</td>\n",
       "      <td>2.80</td>\n",
       "      <td>3.06</td>\n",
       "      <td>0.28</td>\n",
       "      <td>2.29</td>\n",
       "      <td>5.64</td>\n",
       "      <td>1.04</td>\n",
       "      <td>3.92</td>\n",
       "      <td>1065</td>\n",
       "    </tr>\n",
       "    <tr>\n",
       "      <th>1</th>\n",
       "      <td>1</td>\n",
       "      <td>13.20</td>\n",
       "      <td>1.78</td>\n",
       "      <td>2.14</td>\n",
       "      <td>11.2</td>\n",
       "      <td>100</td>\n",
       "      <td>2.65</td>\n",
       "      <td>2.76</td>\n",
       "      <td>0.26</td>\n",
       "      <td>1.28</td>\n",
       "      <td>4.38</td>\n",
       "      <td>1.05</td>\n",
       "      <td>3.40</td>\n",
       "      <td>1050</td>\n",
       "    </tr>\n",
       "    <tr>\n",
       "      <th>2</th>\n",
       "      <td>1</td>\n",
       "      <td>13.16</td>\n",
       "      <td>2.36</td>\n",
       "      <td>2.67</td>\n",
       "      <td>18.6</td>\n",
       "      <td>101</td>\n",
       "      <td>2.80</td>\n",
       "      <td>3.24</td>\n",
       "      <td>0.30</td>\n",
       "      <td>2.81</td>\n",
       "      <td>5.68</td>\n",
       "      <td>1.03</td>\n",
       "      <td>3.17</td>\n",
       "      <td>1185</td>\n",
       "    </tr>\n",
       "    <tr>\n",
       "      <th>3</th>\n",
       "      <td>1</td>\n",
       "      <td>14.37</td>\n",
       "      <td>1.95</td>\n",
       "      <td>2.50</td>\n",
       "      <td>16.8</td>\n",
       "      <td>113</td>\n",
       "      <td>3.85</td>\n",
       "      <td>3.49</td>\n",
       "      <td>0.24</td>\n",
       "      <td>2.18</td>\n",
       "      <td>7.80</td>\n",
       "      <td>0.86</td>\n",
       "      <td>3.45</td>\n",
       "      <td>1480</td>\n",
       "    </tr>\n",
       "    <tr>\n",
       "      <th>4</th>\n",
       "      <td>1</td>\n",
       "      <td>13.24</td>\n",
       "      <td>2.59</td>\n",
       "      <td>2.87</td>\n",
       "      <td>21.0</td>\n",
       "      <td>118</td>\n",
       "      <td>2.80</td>\n",
       "      <td>2.69</td>\n",
       "      <td>0.39</td>\n",
       "      <td>1.82</td>\n",
       "      <td>4.32</td>\n",
       "      <td>1.04</td>\n",
       "      <td>2.93</td>\n",
       "      <td>735</td>\n",
       "    </tr>\n",
       "  </tbody>\n",
       "</table>\n",
       "</div>"
      ],
      "text/plain": [
       "   Class  Alcool  Malic acid   Ash  Alcalinity of ash  Magnesium  \\\n",
       "0      1   14.23        1.71  2.43               15.6        127   \n",
       "1      1   13.20        1.78  2.14               11.2        100   \n",
       "2      1   13.16        2.36  2.67               18.6        101   \n",
       "3      1   14.37        1.95  2.50               16.8        113   \n",
       "4      1   13.24        2.59  2.87               21.0        118   \n",
       "\n",
       "   Total phenols  Flavanoids  Nonflavanoid phenols  Proanthocyanins  \\\n",
       "0           2.80        3.06                  0.28             2.29   \n",
       "1           2.65        2.76                  0.26             1.28   \n",
       "2           2.80        3.24                  0.30             2.81   \n",
       "3           3.85        3.49                  0.24             2.18   \n",
       "4           2.80        2.69                  0.39             1.82   \n",
       "\n",
       "   Color intensity   Hue  OD280/OD315 of diluted wines  Proline  \n",
       "0             5.64  1.04                          3.92     1065  \n",
       "1             4.38  1.05                          3.40     1050  \n",
       "2             5.68  1.03                          3.17     1185  \n",
       "3             7.80  0.86                          3.45     1480  \n",
       "4             4.32  1.04                          2.93      735  "
      ]
     },
     "execution_count": 15,
     "metadata": {},
     "output_type": "execute_result"
    }
   ],
   "source": [
    "# Explorez les données, ajoutez dautant de cellules que nécessaire.\n",
    "wines.head()"
   ]
  },
  {
   "cell_type": "code",
   "execution_count": 16,
   "id": "edd6aff1",
   "metadata": {
    "scrolled": true
   },
   "outputs": [
    {
     "name": "stdout",
     "output_type": "stream",
     "text": [
      "<class 'pandas.core.frame.DataFrame'>\n",
      "RangeIndex: 178 entries, 0 to 177\n",
      "Data columns (total 14 columns):\n",
      " #   Column                        Non-Null Count  Dtype  \n",
      "---  ------                        --------------  -----  \n",
      " 0   Class                         178 non-null    int64  \n",
      " 1   Alcool                        178 non-null    float64\n",
      " 2   Malic acid                    178 non-null    float64\n",
      " 3   Ash                           178 non-null    float64\n",
      " 4   Alcalinity of ash             178 non-null    float64\n",
      " 5   Magnesium                     178 non-null    int64  \n",
      " 6   Total phenols                 178 non-null    float64\n",
      " 7   Flavanoids                    178 non-null    float64\n",
      " 8   Nonflavanoid phenols          178 non-null    float64\n",
      " 9   Proanthocyanins               178 non-null    float64\n",
      " 10  Color intensity               178 non-null    float64\n",
      " 11  Hue                           178 non-null    float64\n",
      " 12  OD280/OD315 of diluted wines  178 non-null    float64\n",
      " 13  Proline                       178 non-null    int64  \n",
      "dtypes: float64(11), int64(3)\n",
      "memory usage: 19.6 KB\n"
     ]
    }
   ],
   "source": [
    "wines.info()"
   ]
  },
  {
   "cell_type": "code",
   "execution_count": 17,
   "id": "4dd00702",
   "metadata": {},
   "outputs": [
    {
     "data": {
      "text/html": [
       "<div>\n",
       "<style scoped>\n",
       "    .dataframe tbody tr th:only-of-type {\n",
       "        vertical-align: middle;\n",
       "    }\n",
       "\n",
       "    .dataframe tbody tr th {\n",
       "        vertical-align: top;\n",
       "    }\n",
       "\n",
       "    .dataframe thead th {\n",
       "        text-align: right;\n",
       "    }\n",
       "</style>\n",
       "<table border=\"1\" class=\"dataframe\">\n",
       "  <thead>\n",
       "    <tr style=\"text-align: right;\">\n",
       "      <th></th>\n",
       "      <th>Class</th>\n",
       "      <th>Alcool</th>\n",
       "      <th>Malic acid</th>\n",
       "      <th>Ash</th>\n",
       "      <th>Alcalinity of ash</th>\n",
       "      <th>Magnesium</th>\n",
       "      <th>Total phenols</th>\n",
       "      <th>Flavanoids</th>\n",
       "      <th>Nonflavanoid phenols</th>\n",
       "      <th>Proanthocyanins</th>\n",
       "      <th>Color intensity</th>\n",
       "      <th>Hue</th>\n",
       "      <th>OD280/OD315 of diluted wines</th>\n",
       "      <th>Proline</th>\n",
       "    </tr>\n",
       "  </thead>\n",
       "  <tbody>\n",
       "    <tr>\n",
       "      <th>count</th>\n",
       "      <td>178.000000</td>\n",
       "      <td>178.000000</td>\n",
       "      <td>178.000000</td>\n",
       "      <td>178.000000</td>\n",
       "      <td>178.000000</td>\n",
       "      <td>178.000000</td>\n",
       "      <td>178.000000</td>\n",
       "      <td>178.000000</td>\n",
       "      <td>178.000000</td>\n",
       "      <td>178.000000</td>\n",
       "      <td>178.000000</td>\n",
       "      <td>178.000000</td>\n",
       "      <td>178.000000</td>\n",
       "      <td>178.000000</td>\n",
       "    </tr>\n",
       "    <tr>\n",
       "      <th>mean</th>\n",
       "      <td>1.938202</td>\n",
       "      <td>13.000618</td>\n",
       "      <td>2.336348</td>\n",
       "      <td>2.366517</td>\n",
       "      <td>19.494944</td>\n",
       "      <td>99.741573</td>\n",
       "      <td>2.295112</td>\n",
       "      <td>2.029270</td>\n",
       "      <td>0.361854</td>\n",
       "      <td>1.590899</td>\n",
       "      <td>5.058090</td>\n",
       "      <td>0.957449</td>\n",
       "      <td>2.611685</td>\n",
       "      <td>746.893258</td>\n",
       "    </tr>\n",
       "    <tr>\n",
       "      <th>std</th>\n",
       "      <td>0.775035</td>\n",
       "      <td>0.811827</td>\n",
       "      <td>1.117146</td>\n",
       "      <td>0.274344</td>\n",
       "      <td>3.339564</td>\n",
       "      <td>14.282484</td>\n",
       "      <td>0.625851</td>\n",
       "      <td>0.998859</td>\n",
       "      <td>0.124453</td>\n",
       "      <td>0.572359</td>\n",
       "      <td>2.318286</td>\n",
       "      <td>0.228572</td>\n",
       "      <td>0.709990</td>\n",
       "      <td>314.907474</td>\n",
       "    </tr>\n",
       "    <tr>\n",
       "      <th>min</th>\n",
       "      <td>1.000000</td>\n",
       "      <td>11.030000</td>\n",
       "      <td>0.740000</td>\n",
       "      <td>1.360000</td>\n",
       "      <td>10.600000</td>\n",
       "      <td>70.000000</td>\n",
       "      <td>0.980000</td>\n",
       "      <td>0.340000</td>\n",
       "      <td>0.130000</td>\n",
       "      <td>0.410000</td>\n",
       "      <td>1.280000</td>\n",
       "      <td>0.480000</td>\n",
       "      <td>1.270000</td>\n",
       "      <td>278.000000</td>\n",
       "    </tr>\n",
       "    <tr>\n",
       "      <th>25%</th>\n",
       "      <td>1.000000</td>\n",
       "      <td>12.362500</td>\n",
       "      <td>1.602500</td>\n",
       "      <td>2.210000</td>\n",
       "      <td>17.200000</td>\n",
       "      <td>88.000000</td>\n",
       "      <td>1.742500</td>\n",
       "      <td>1.205000</td>\n",
       "      <td>0.270000</td>\n",
       "      <td>1.250000</td>\n",
       "      <td>3.220000</td>\n",
       "      <td>0.782500</td>\n",
       "      <td>1.937500</td>\n",
       "      <td>500.500000</td>\n",
       "    </tr>\n",
       "    <tr>\n",
       "      <th>50%</th>\n",
       "      <td>2.000000</td>\n",
       "      <td>13.050000</td>\n",
       "      <td>1.865000</td>\n",
       "      <td>2.360000</td>\n",
       "      <td>19.500000</td>\n",
       "      <td>98.000000</td>\n",
       "      <td>2.355000</td>\n",
       "      <td>2.135000</td>\n",
       "      <td>0.340000</td>\n",
       "      <td>1.555000</td>\n",
       "      <td>4.690000</td>\n",
       "      <td>0.965000</td>\n",
       "      <td>2.780000</td>\n",
       "      <td>673.500000</td>\n",
       "    </tr>\n",
       "    <tr>\n",
       "      <th>75%</th>\n",
       "      <td>3.000000</td>\n",
       "      <td>13.677500</td>\n",
       "      <td>3.082500</td>\n",
       "      <td>2.557500</td>\n",
       "      <td>21.500000</td>\n",
       "      <td>107.000000</td>\n",
       "      <td>2.800000</td>\n",
       "      <td>2.875000</td>\n",
       "      <td>0.437500</td>\n",
       "      <td>1.950000</td>\n",
       "      <td>6.200000</td>\n",
       "      <td>1.120000</td>\n",
       "      <td>3.170000</td>\n",
       "      <td>985.000000</td>\n",
       "    </tr>\n",
       "    <tr>\n",
       "      <th>max</th>\n",
       "      <td>3.000000</td>\n",
       "      <td>14.830000</td>\n",
       "      <td>5.800000</td>\n",
       "      <td>3.230000</td>\n",
       "      <td>30.000000</td>\n",
       "      <td>162.000000</td>\n",
       "      <td>3.880000</td>\n",
       "      <td>5.080000</td>\n",
       "      <td>0.660000</td>\n",
       "      <td>3.580000</td>\n",
       "      <td>13.000000</td>\n",
       "      <td>1.710000</td>\n",
       "      <td>4.000000</td>\n",
       "      <td>1680.000000</td>\n",
       "    </tr>\n",
       "  </tbody>\n",
       "</table>\n",
       "</div>"
      ],
      "text/plain": [
       "            Class      Alcool  Malic acid         Ash  Alcalinity of ash  \\\n",
       "count  178.000000  178.000000  178.000000  178.000000         178.000000   \n",
       "mean     1.938202   13.000618    2.336348    2.366517          19.494944   \n",
       "std      0.775035    0.811827    1.117146    0.274344           3.339564   \n",
       "min      1.000000   11.030000    0.740000    1.360000          10.600000   \n",
       "25%      1.000000   12.362500    1.602500    2.210000          17.200000   \n",
       "50%      2.000000   13.050000    1.865000    2.360000          19.500000   \n",
       "75%      3.000000   13.677500    3.082500    2.557500          21.500000   \n",
       "max      3.000000   14.830000    5.800000    3.230000          30.000000   \n",
       "\n",
       "        Magnesium  Total phenols  Flavanoids  Nonflavanoid phenols  \\\n",
       "count  178.000000     178.000000  178.000000            178.000000   \n",
       "mean    99.741573       2.295112    2.029270              0.361854   \n",
       "std     14.282484       0.625851    0.998859              0.124453   \n",
       "min     70.000000       0.980000    0.340000              0.130000   \n",
       "25%     88.000000       1.742500    1.205000              0.270000   \n",
       "50%     98.000000       2.355000    2.135000              0.340000   \n",
       "75%    107.000000       2.800000    2.875000              0.437500   \n",
       "max    162.000000       3.880000    5.080000              0.660000   \n",
       "\n",
       "       Proanthocyanins  Color intensity         Hue  \\\n",
       "count       178.000000       178.000000  178.000000   \n",
       "mean          1.590899         5.058090    0.957449   \n",
       "std           0.572359         2.318286    0.228572   \n",
       "min           0.410000         1.280000    0.480000   \n",
       "25%           1.250000         3.220000    0.782500   \n",
       "50%           1.555000         4.690000    0.965000   \n",
       "75%           1.950000         6.200000    1.120000   \n",
       "max           3.580000        13.000000    1.710000   \n",
       "\n",
       "       OD280/OD315 of diluted wines      Proline  \n",
       "count                    178.000000   178.000000  \n",
       "mean                       2.611685   746.893258  \n",
       "std                        0.709990   314.907474  \n",
       "min                        1.270000   278.000000  \n",
       "25%                        1.937500   500.500000  \n",
       "50%                        2.780000   673.500000  \n",
       "75%                        3.170000   985.000000  \n",
       "max                        4.000000  1680.000000  "
      ]
     },
     "execution_count": 17,
     "metadata": {},
     "output_type": "execute_result"
    }
   ],
   "source": [
    "wines.describe()"
   ]
  },
  {
   "cell_type": "markdown",
   "id": "c8ed269e",
   "metadata": {},
   "source": [
    "<p style=\"background-color:#AFEEEE;padding:3px\"><font size=\"4\"><b>Q8 </b></font> La colonne \"Class\" contient notre variable dépendante (variable de sortie / output). Combien de classes différentes y a-t-il et à quoi correspondent-elles ? A quelle position se trouve cette colonne dans le DataFrame ? Utilisez la cellule ci-dessous si nécessaire puis répondez textuellement. </p>\n",
    " \n",
    "\n",
    "Aide: Utilisez la fonction *unique()* sur la colonne *Class* pour répondre à la première question.\n"
   ]
  },
  {
   "cell_type": "code",
   "execution_count": 18,
   "id": "7d864e5d",
   "metadata": {},
   "outputs": [
    {
     "name": "stdout",
     "output_type": "stream",
     "text": [
      "3\n",
      "0\n"
     ]
    }
   ],
   "source": [
    "# Q6: Ecrivez votre code ici: \n",
    "\n",
    "# Crée tableau avec les valeurs unique\n",
    "wines_filtered = wines[\"Class\"].unique()\n",
    "print(len(wines_filtered))\n",
    "\n",
    "\n",
    "# Prend la position de la colonne classe\n",
    "print(wines.columns.get_loc(\"Class\"))"
   ]
  },
  {
   "cell_type": "markdown",
   "id": "9f75d633",
   "metadata": {},
   "source": [
    "Il y a 3 classes uniques et celles-ci représentent les différentes cultivars utilisés pour faire le vin en question.\n",
    "La colonne des classes de vin est en première position du DataFrame."
   ]
  },
  {
   "cell_type": "markdown",
   "id": "0af589bd",
   "metadata": {},
   "source": [
    "### 2.3 Boxplot groupé\n",
    "\n",
    "(5 points)\n",
    "\n",
    "Créez un boxplot pour chaque variables, groupées par Class.\n",
    "\n",
    "Pour faire ceci, complétez le code ci-dessous en vous basant sur le pseudo code donné en commentaire entre les \"------\". N'utilisez que 2 lignes, une pour la boucle et une pour le graphique.\n",
    "\n",
    "- Aide: Pour obtenir les noms de colonnes utilisez *wines.columns*. Pour obtenir i dans la boucle, en plus des noms de colonne, utilisez la fonction *enumerate*.\n",
    "- Aide: Utilisez le [slicing](https://stackoverflow.com/questions/509211/understanding-slicing) pour obtenir tous les noms de colonne sauf Class (qui se trouve à une extrémité de la liste). \n",
    "- Aide: Utilisez la fonction [sns.boxplot de Seaborn](https://seaborn.pydata.org/generated/seaborn.boxplot.html) pour un résultat élégant très coloré, ou la fonction [pandas.DataFrame.boxplot](https://pandas.pydata.org/docs/reference/api/pandas.DataFrame.boxplot.html) pour un résultat épuré en toute simplicité.\n"
   ]
  },
  {
   "cell_type": "code",
   "execution_count": 19,
   "id": "5277ef20",
   "metadata": {
    "scrolled": false
   },
   "outputs": [
    {
     "data": {
      "image/png": "[encoded data removed]",
      "text/plain": [
       "<Figure size 2000x1000 with 13 Axes>"
      ]
     },
     "metadata": {},
     "output_type": "display_data"
    }
   ],
   "source": [
    "fig, axs = plt.subplots(2, 7, figsize=(20, 10)) # On spécifie le nombre de lignes et de colonnes de notre figure \n",
    "axs = axs.flatten() # -> 1D\n",
    "\n",
    "#----------\n",
    "# Pour i et chaque nom de colonne sauf class\n",
    "    # Boxplot avec pour x la Class, et pour y la variable. Utilisez ax=axs[i] pour insérer le plot dans la figure. !\n",
    "#----------  \n",
    "    \n",
    "for i, column_name in enumerate(wines.columns[1:]):\n",
    "    sns.boxplot(x=wines.iloc[:, 0], y=wines[column_name], ax=axs[i])\n",
    "                                  \n",
    "fig.suptitle('Boxplot of the features by label', fontsize=14)    \n",
    "fig.tight_layout(rect=[0, 0.03, 1, 0.98])\n",
    "fig.delaxes(axs[13]) # Supprime le plot vide en bas à droite"
   ]
  },
  {
   "cell_type": "markdown",
   "id": "b2d94e6c",
   "metadata": {},
   "source": [
    "### 2.4 Analyse des graphiques\n",
    "\n",
    "(5 points)\n",
    "\n",
    "<p style=\"background-color:#AFEEEE;padding:3px\"><font size=\"4\"><b>Q9 </b></font> D'après les boxplots ci-dessus, quelles variables permettraient le mieux de distinguer/séparer les trois classes ? Et de distinguer une classe des deux autres ? Discutez les meilleures options et donnez les 4 meilleures variables, ainsi que les valeurs approximatives qui permettent de séparer les 3 classes. Justifiez et discutez votre choix. </p>\n",
    "\n",
    "<p></p>\n",
    "<div style=\"background-color:#EEEEEE;padding:3px\">Note: un modèle peut permettre, avec des règles simples, de distinguer deux classes l'une de l'autre. Par exemple pour distinguer un chat d'un chien sur des valeurs numérique on pourrait avoir les règles suivantes: \n",
    "\n",
    "- Si $souplesse < 2$ et $poids > 10$ -> c'est un chien\n",
    "- Sinon -> c'est un chat. \n",
    "\n",
    "Pour pouvoir établir ces règles, il faut donc avoir une vue sur les différentes variables. Ce n'est pas parfait mais le modèle reste simple. Il fonctionnera dans une bonne partie des cas mais on peut toujours tomber sur un Chihuahua souple de moins de 5 kilos par exemple. \n",
    "</div>"
   ]
  },
  {
   "cell_type": "markdown",
   "id": "18814034",
   "metadata": {},
   "source": [
    "Le but est d'éviter au maximum d'avoir des superpositions de nos classes. De la sorte, le fait d'avoir des données précises par classes (peu diffuses) est un plus dans notre recherche. Par exemple, la variable \"Ash\" est peu appropriée à ce genre d'analyses, étant donné les superpositions. D'une autre manière, \"Nonflavanoid phenols\" est aussi inapproprié car la classe 2 est très répendue, donc il serait complexe de différencier entre la classe 2 et les deux autres dans beaucoup de cas.\n",
    "\n",
    "L'attribut permétant le mieux de distinguer les trois classe est le \"Flavanoids\" car les trois classes ont la majorité de leurs valeurs complètement distinctes des deux autres classes. Le \"Total phenols\" s'en rapproche aussi mais les valeurs sont plus diffuses et rapprochées, et sont donc plus dur à distinguer.\n",
    "En ce qui concerne les valeurs distinctives pour \"Flavanoids\":\n",
    " - <1.3   Classe 3\n",
    " - \\>2.3 Classe 1\n",
    " - sinon Classe 2\n",
    "\n",
    "Celui qui permet le mieux de distinguer la classe 3 des autres est le \"OD280/OD315 of diluted wines\" car les deux autres classes ont des valeurs relativement similaire tandis que la classe 3 est presque entièrement différente.\n",
    "Pour les mêmes raisons nous avons le \"Proline\" pour la classe 1 et le \"Color intensity\" pour la classe 2.\n",
    "Pour chaque classe dans son attribut respectif nous avons les valeurs distinctives suivantes:\n",
    " - Classe 1 (Proline) >900\n",
    " - Classe 2 (Color intensity)  <4.0\n",
    " - Classe 3 (OD280/OD315 of diluted wines)  <2.0"
   ]
  },
  {
   "cell_type": "markdown",
   "id": "1a46f249",
   "metadata": {},
   "source": [
    "<div class=\"alert alert-block alert-info\">\n",
    "<b>Corrections 2.1-2.4: </b> Points obtenus: /17\n",
    "</div>\n",
    "\n",
    "Remarques: "
   ]
  },
  {
   "cell_type": "markdown",
   "id": "c5e94725",
   "metadata": {},
   "source": [
    "---\n",
    "\n",
    "## Exercice 3: Introduction aux modèles à base de règles\n",
    "\n",
    "(10 points)\n",
    "\n",
    "Pour créer un modèle à base de règles (if-then-else) pour classifier les observations, vous utiliserez **une** des 3 variables choisies dans l'exercice 2 ci-dessus. Ce que l'on veut c'est des règles du type: si *composé A* > 12 alors class = 1, si *composé A* < 8 alors class = 2, sinon class = 3. Ceci peut-être étendu a plusieurs variables avec plus ou moins de conditions, mais gardons les choses simples pour cet exercice. \n",
    "\n",
    "\n"
   ]
  },
  {
   "cell_type": "markdown",
   "id": "ab940bc4",
   "metadata": {},
   "source": [
    "<p style=\"background-color:#AFEEEE;padding:3px\"><font size=\"4\"><b>Q10 </b></font> Ajoutez au DataFrame wines (ou à une copie) une colone \"pred\" contenant les prédictions effectuées à l'aide d'une des variables choisies. Ecrivez-en le code ci-dessous. </p>\n",
    "\n",
    "\n",
    "\n",
    "**Note:** Vous êtes libre de votre manière de faire mais le plus simple et de prévoir une fonction qui prend en entrée votre variable choisie et qui retourne la prédiction (1, 2 ou 3). Dans ce genre d'exercice, pour ajouter une colonne en fonction des valeurs d'une autre, la fonction *apply()* permet d'appliquer une fonction sur toutes les observations d'un Dataframe. Vous pouvez trouver quelques exemples [ici](https://sparkbyexamples.com/pandas/pandas-apply-function-to-every-row/). Ce sera utile pour plus tard ! "
   ]
  },
  {
   "cell_type": "code",
   "execution_count": 23,
   "id": "e34b9cac",
   "metadata": {},
   "outputs": [
    {
     "data": {
      "text/html": [
       "<div>\n",
       "<style scoped>\n",
       "    .dataframe tbody tr th:only-of-type {\n",
       "        vertical-align: middle;\n",
       "    }\n",
       "\n",
       "    .dataframe tbody tr th {\n",
       "        vertical-align: top;\n",
       "    }\n",
       "\n",
       "    .dataframe thead th {\n",
       "        text-align: right;\n",
       "    }\n",
       "</style>\n",
       "<table border=\"1\" class=\"dataframe\">\n",
       "  <thead>\n",
       "    <tr style=\"text-align: right;\">\n",
       "      <th></th>\n",
       "      <th>Class</th>\n",
       "      <th>Alcool</th>\n",
       "      <th>Malic acid</th>\n",
       "      <th>Ash</th>\n",
       "      <th>Alcalinity of ash</th>\n",
       "      <th>Magnesium</th>\n",
       "      <th>Total phenols</th>\n",
       "      <th>Flavanoids</th>\n",
       "      <th>Nonflavanoid phenols</th>\n",
       "      <th>Proanthocyanins</th>\n",
       "      <th>Color intensity</th>\n",
       "      <th>Hue</th>\n",
       "      <th>OD280/OD315 of diluted wines</th>\n",
       "      <th>Proline</th>\n",
       "      <th>pred</th>\n",
       "    </tr>\n",
       "  </thead>\n",
       "  <tbody>\n",
       "    <tr>\n",
       "      <th>0</th>\n",
       "      <td>1</td>\n",
       "      <td>14.23</td>\n",
       "      <td>1.71</td>\n",
       "      <td>2.43</td>\n",
       "      <td>15.6</td>\n",
       "      <td>127</td>\n",
       "      <td>2.80</td>\n",
       "      <td>3.06</td>\n",
       "      <td>0.28</td>\n",
       "      <td>2.29</td>\n",
       "      <td>5.64</td>\n",
       "      <td>1.04</td>\n",
       "      <td>3.92</td>\n",
       "      <td>1065</td>\n",
       "      <td>1</td>\n",
       "    </tr>\n",
       "    <tr>\n",
       "      <th>1</th>\n",
       "      <td>1</td>\n",
       "      <td>13.20</td>\n",
       "      <td>1.78</td>\n",
       "      <td>2.14</td>\n",
       "      <td>11.2</td>\n",
       "      <td>100</td>\n",
       "      <td>2.65</td>\n",
       "      <td>2.76</td>\n",
       "      <td>0.26</td>\n",
       "      <td>1.28</td>\n",
       "      <td>4.38</td>\n",
       "      <td>1.05</td>\n",
       "      <td>3.40</td>\n",
       "      <td>1050</td>\n",
       "      <td>1</td>\n",
       "    </tr>\n",
       "    <tr>\n",
       "      <th>2</th>\n",
       "      <td>1</td>\n",
       "      <td>13.16</td>\n",
       "      <td>2.36</td>\n",
       "      <td>2.67</td>\n",
       "      <td>18.6</td>\n",
       "      <td>101</td>\n",
       "      <td>2.80</td>\n",
       "      <td>3.24</td>\n",
       "      <td>0.30</td>\n",
       "      <td>2.81</td>\n",
       "      <td>5.68</td>\n",
       "      <td>1.03</td>\n",
       "      <td>3.17</td>\n",
       "      <td>1185</td>\n",
       "      <td>1</td>\n",
       "    </tr>\n",
       "    <tr>\n",
       "      <th>3</th>\n",
       "      <td>1</td>\n",
       "      <td>14.37</td>\n",
       "      <td>1.95</td>\n",
       "      <td>2.50</td>\n",
       "      <td>16.8</td>\n",
       "      <td>113</td>\n",
       "      <td>3.85</td>\n",
       "      <td>3.49</td>\n",
       "      <td>0.24</td>\n",
       "      <td>2.18</td>\n",
       "      <td>7.80</td>\n",
       "      <td>0.86</td>\n",
       "      <td>3.45</td>\n",
       "      <td>1480</td>\n",
       "      <td>1</td>\n",
       "    </tr>\n",
       "    <tr>\n",
       "      <th>4</th>\n",
       "      <td>1</td>\n",
       "      <td>13.24</td>\n",
       "      <td>2.59</td>\n",
       "      <td>2.87</td>\n",
       "      <td>21.0</td>\n",
       "      <td>118</td>\n",
       "      <td>2.80</td>\n",
       "      <td>2.69</td>\n",
       "      <td>0.39</td>\n",
       "      <td>1.82</td>\n",
       "      <td>4.32</td>\n",
       "      <td>1.04</td>\n",
       "      <td>2.93</td>\n",
       "      <td>735</td>\n",
       "      <td>1</td>\n",
       "    </tr>\n",
       "    <tr>\n",
       "      <th>...</th>\n",
       "      <td>...</td>\n",
       "      <td>...</td>\n",
       "      <td>...</td>\n",
       "      <td>...</td>\n",
       "      <td>...</td>\n",
       "      <td>...</td>\n",
       "      <td>...</td>\n",
       "      <td>...</td>\n",
       "      <td>...</td>\n",
       "      <td>...</td>\n",
       "      <td>...</td>\n",
       "      <td>...</td>\n",
       "      <td>...</td>\n",
       "      <td>...</td>\n",
       "      <td>...</td>\n",
       "    </tr>\n",
       "    <tr>\n",
       "      <th>95</th>\n",
       "      <td>2</td>\n",
       "      <td>12.47</td>\n",
       "      <td>1.52</td>\n",
       "      <td>2.20</td>\n",
       "      <td>19.0</td>\n",
       "      <td>162</td>\n",
       "      <td>2.50</td>\n",
       "      <td>2.27</td>\n",
       "      <td>0.32</td>\n",
       "      <td>3.28</td>\n",
       "      <td>2.60</td>\n",
       "      <td>1.16</td>\n",
       "      <td>2.63</td>\n",
       "      <td>937</td>\n",
       "      <td>2</td>\n",
       "    </tr>\n",
       "    <tr>\n",
       "      <th>96</th>\n",
       "      <td>2</td>\n",
       "      <td>11.81</td>\n",
       "      <td>2.12</td>\n",
       "      <td>2.74</td>\n",
       "      <td>21.5</td>\n",
       "      <td>134</td>\n",
       "      <td>1.60</td>\n",
       "      <td>0.99</td>\n",
       "      <td>0.14</td>\n",
       "      <td>1.56</td>\n",
       "      <td>2.50</td>\n",
       "      <td>0.95</td>\n",
       "      <td>2.26</td>\n",
       "      <td>625</td>\n",
       "      <td>3</td>\n",
       "    </tr>\n",
       "    <tr>\n",
       "      <th>97</th>\n",
       "      <td>2</td>\n",
       "      <td>12.29</td>\n",
       "      <td>1.41</td>\n",
       "      <td>1.98</td>\n",
       "      <td>16.0</td>\n",
       "      <td>85</td>\n",
       "      <td>2.55</td>\n",
       "      <td>2.50</td>\n",
       "      <td>0.29</td>\n",
       "      <td>1.77</td>\n",
       "      <td>2.90</td>\n",
       "      <td>1.23</td>\n",
       "      <td>2.74</td>\n",
       "      <td>428</td>\n",
       "      <td>1</td>\n",
       "    </tr>\n",
       "    <tr>\n",
       "      <th>98</th>\n",
       "      <td>2</td>\n",
       "      <td>12.37</td>\n",
       "      <td>1.07</td>\n",
       "      <td>2.10</td>\n",
       "      <td>18.5</td>\n",
       "      <td>88</td>\n",
       "      <td>3.52</td>\n",
       "      <td>3.75</td>\n",
       "      <td>0.24</td>\n",
       "      <td>1.95</td>\n",
       "      <td>4.50</td>\n",
       "      <td>1.04</td>\n",
       "      <td>2.77</td>\n",
       "      <td>660</td>\n",
       "      <td>1</td>\n",
       "    </tr>\n",
       "    <tr>\n",
       "      <th>99</th>\n",
       "      <td>2</td>\n",
       "      <td>12.29</td>\n",
       "      <td>3.17</td>\n",
       "      <td>2.21</td>\n",
       "      <td>18.0</td>\n",
       "      <td>88</td>\n",
       "      <td>2.85</td>\n",
       "      <td>2.99</td>\n",
       "      <td>0.45</td>\n",
       "      <td>2.81</td>\n",
       "      <td>2.30</td>\n",
       "      <td>1.42</td>\n",
       "      <td>2.83</td>\n",
       "      <td>406</td>\n",
       "      <td>1</td>\n",
       "    </tr>\n",
       "  </tbody>\n",
       "</table>\n",
       "<p>100 rows × 15 columns</p>\n",
       "</div>"
      ],
      "text/plain": [
       "    Class  Alcool  Malic acid   Ash  Alcalinity of ash  Magnesium  \\\n",
       "0       1   14.23        1.71  2.43               15.6        127   \n",
       "1       1   13.20        1.78  2.14               11.2        100   \n",
       "2       1   13.16        2.36  2.67               18.6        101   \n",
       "3       1   14.37        1.95  2.50               16.8        113   \n",
       "4       1   13.24        2.59  2.87               21.0        118   \n",
       "..    ...     ...         ...   ...                ...        ...   \n",
       "95      2   12.47        1.52  2.20               19.0        162   \n",
       "96      2   11.81        2.12  2.74               21.5        134   \n",
       "97      2   12.29        1.41  1.98               16.0         85   \n",
       "98      2   12.37        1.07  2.10               18.5         88   \n",
       "99      2   12.29        3.17  2.21               18.0         88   \n",
       "\n",
       "    Total phenols  Flavanoids  Nonflavanoid phenols  Proanthocyanins  \\\n",
       "0            2.80        3.06                  0.28             2.29   \n",
       "1            2.65        2.76                  0.26             1.28   \n",
       "2            2.80        3.24                  0.30             2.81   \n",
       "3            3.85        3.49                  0.24             2.18   \n",
       "4            2.80        2.69                  0.39             1.82   \n",
       "..            ...         ...                   ...              ...   \n",
       "95           2.50        2.27                  0.32             3.28   \n",
       "96           1.60        0.99                  0.14             1.56   \n",
       "97           2.55        2.50                  0.29             1.77   \n",
       "98           3.52        3.75                  0.24             1.95   \n",
       "99           2.85        2.99                  0.45             2.81   \n",
       "\n",
       "    Color intensity   Hue  OD280/OD315 of diluted wines  Proline  pred  \n",
       "0              5.64  1.04                          3.92     1065     1  \n",
       "1              4.38  1.05                          3.40     1050     1  \n",
       "2              5.68  1.03                          3.17     1185     1  \n",
       "3              7.80  0.86                          3.45     1480     1  \n",
       "4              4.32  1.04                          2.93      735     1  \n",
       "..              ...   ...                           ...      ...   ...  \n",
       "95             2.60  1.16                          2.63      937     2  \n",
       "96             2.50  0.95                          2.26      625     3  \n",
       "97             2.90  1.23                          2.74      428     1  \n",
       "98             4.50  1.04                          2.77      660     1  \n",
       "99             2.30  1.42                          2.83      406     1  \n",
       "\n",
       "[100 rows x 15 columns]"
      ]
     },
     "execution_count": 23,
     "metadata": {},
     "output_type": "execute_result"
    }
   ],
   "source": [
    "def prediction(flavanoids):\n",
    "    if(flavanoids < 1.3):\n",
    "        return 3\n",
    "    if(flavanoids > 2.3):\n",
    "        return 1\n",
    "    else:\n",
    "        return 2\n",
    "\n",
    "result = []\n",
    "\n",
    "for row in wines.itertuples(index=False):\n",
    "    result.append(prediction(row.Flavanoids))\n",
    "\n",
    "wines['pred'] = result\n",
    "\n",
    "wines.head(100)"
   ]
  },
  {
   "cell_type": "markdown",
   "id": "cf6c2466",
   "metadata": {},
   "source": [
    "<p style=\"background-color:#AFEEEE;padding:3px\"><font size=\"4\"><b>Q11 </b></font> Calculez et affichez la proportion de prédiction correcte (Accuracy) de votre modèle. Faites la matrice de confusion.</p>\n",
    "\n",
    "**Note:** Vous pouvez faire la matrice de confusion en python ou à la main (dans le sens textuel). \n"
   ]
  },
  {
   "cell_type": "code",
   "execution_count": 30,
   "id": "d279e094",
   "metadata": {},
   "outputs": [
    {
     "name": "stdout",
     "output_type": "stream",
     "text": [
      "Class was 1 but was guessed as 2 . Value of Flavanoids: 2.19\n",
      "Class was 2 but was guessed as 3 . Value of Flavanoids: 0.57\n",
      "Class was 2 but was guessed as 3 . Value of Flavanoids: 1.09\n",
      "Class was 2 but was guessed as 1 . Value of Flavanoids: 3.1\n",
      "Class was 2 but was guessed as 1 . Value of Flavanoids: 2.65\n",
      "Class was 2 but was guessed as 1 . Value of Flavanoids: 3.18\n",
      "Class was 2 but was guessed as 3 . Value of Flavanoids: 1.28\n",
      "Class was 2 but was guessed as 3 . Value of Flavanoids: 1.02\n",
      "Class was 2 but was guessed as 1 . Value of Flavanoids: 2.86\n",
      "Class was 2 but was guessed as 1 . Value of Flavanoids: 2.89\n",
      "Class was 2 but was guessed as 1 . Value of Flavanoids: 2.55\n",
      "Class was 2 but was guessed as 1 . Value of Flavanoids: 2.53\n",
      "Class was 2 but was guessed as 3 . Value of Flavanoids: 1.25\n",
      "Class was 2 but was guessed as 3 . Value of Flavanoids: 0.99\n",
      "Class was 2 but was guessed as 1 . Value of Flavanoids: 2.5\n",
      "Class was 2 but was guessed as 1 . Value of Flavanoids: 3.75\n",
      "Class was 2 but was guessed as 1 . Value of Flavanoids: 2.99\n",
      "Class was 2 but was guessed as 1 . Value of Flavanoids: 2.92\n",
      "Class was 2 but was guessed as 1 . Value of Flavanoids: 2.58\n",
      "Class was 2 but was guessed as 3 . Value of Flavanoids: 1.25\n",
      "Class was 2 but was guessed as 1 . Value of Flavanoids: 2.79\n",
      "Class was 2 but was guessed as 1 . Value of Flavanoids: 5.08\n",
      "Class was 2 but was guessed as 1 . Value of Flavanoids: 2.65\n",
      "Class was 2 but was guessed as 1 . Value of Flavanoids: 3.03\n",
      "Class was 2 but was guessed as 1 . Value of Flavanoids: 2.65\n",
      "Class was 2 but was guessed as 1 . Value of Flavanoids: 3.15\n",
      "Class was 2 but was guessed as 1 . Value of Flavanoids: 2.45\n",
      "Class was 3 but was guessed as 2 . Value of Flavanoids: 1.39\n",
      "Class was 3 but was guessed as 2 . Value of Flavanoids: 1.57\n",
      "Class was 3 but was guessed as 2 . Value of Flavanoids: 1.36\n",
      "Class was 3 but was guessed as 2 . Value of Flavanoids: 1.31\n",
      "31 de 178 sont faux. Accuracy de 82.58426966292134 pourcents.\n",
      "\n",
      "La matrice de confusion est donc la suivante:\n",
      "    Réalité\n",
      "    1  2  3\n",
      " 1 [58, 19, 0] \n",
      " 2 [1, 45, 4]  Prédiction\n",
      " 3 [0, 7, 44]\n"
     ]
    }
   ],
   "source": [
    "# Q9\n",
    "# Ecrivez votre code ici.\n",
    "\n",
    "total = 0\n",
    "faux = 0\n",
    "matrix = [[0,0,0],[0,0,0],[0,0,0]]\n",
    "\n",
    "for row in wines.itertuples(index=False):\n",
    "    total += 1\n",
    "    matrix[row.pred - 1][row.Class - 1] += 1\n",
    "    if(row.Class != row.pred):\n",
    "        faux += 1\n",
    "        print(\"Class was\", row.Class, \"but was guessed as\", row.pred, \". Value of Flavanoids:\", row.Flavanoids)\n",
    "\n",
    "print(faux, \"de\", total, \"sont faux. Accuracy de\", (total - faux) / total * 100, \"pourcents.\\n\")\n",
    "\n",
    "# Matrice de confusion\n",
    "print(\"La matrice de confusion est donc la suivante:\\n\",\n",
    "      \"   Réalité\\n\",\"   1  2  3\\n\",\n",
    "      1,matrix[0],\"\\n\",\n",
    "      2,matrix[1],\" Prédiction\\n\",\n",
    "      3,matrix[2])\n"
   ]
  },
  {
   "cell_type": "markdown",
   "id": "11f7ebce",
   "metadata": {},
   "source": [
    "*Réponse...*\n",
    "\n"
   ]
  },
  {
   "cell_type": "markdown",
   "id": "0d497ba1",
   "metadata": {},
   "source": [
    "---\n",
    "<div class=\"alert alert-block alert-info\">\n",
    "<b>Corrections Ex 3: </b> Points obtenus: /10\n",
    "</div>\n",
    "\n",
    "Remarques: "
   ]
  },
  {
   "cell_type": "markdown",
   "id": "b8a94a8e",
   "metadata": {},
   "source": [
    "FIN"
   ]
  }
 ],
 "metadata": {
  "kernelspec": {
   "display_name": "isd",
   "language": "python",
   "name": "isd"
  },
  "language_info": {
   "codemirror_mode": {
    "name": "ipython",
    "version": 3
   },
   "file_extension": ".py",
   "mimetype": "text/x-python",
   "name": "python",
   "nbconvert_exporter": "python",
   "pygments_lexer": "ipython3",
   "version": "3.9.18"
  }
 },
 "nbformat": 4,
 "nbformat_minor": 5
}
